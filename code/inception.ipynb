{
 "cells": [
  {
   "cell_type": "code",
   "execution_count": 1,
   "metadata": {},
   "outputs": [
    {
     "name": "stderr",
     "output_type": "stream",
     "text": [
      "100%|██████████| 100/100 [00:10<00:00,  9.57it/s]\n"
     ]
    },
    {
     "data": {
      "text/plain": [
       "(999896, 81574)"
      ]
     },
     "execution_count": 1,
     "metadata": {},
     "output_type": "execute_result"
    }
   ],
   "source": [
    "import os\n",
    "from tqdm import tqdm\n",
    "\n",
    "path = '/share/jproject/fg538/r-006-gpu-4/data'\n",
    "train_count = 0\n",
    "val_count = 0\n",
    "\n",
    "for folder in tqdm(os.listdir('{}/keras_data/train_dir/'.format(path))):\n",
    "    train_count += len(os.listdir('{}/keras_data/train_dir/{}/'.format(path, folder)))\n",
    "    val_count += len(os.listdir('{}/keras_data/val_dir/{}/'.format(path, folder)))\n",
    "train_count, val_count"
   ]
  },
  {
   "cell_type": "code",
   "execution_count": 6,
   "metadata": {},
   "outputs": [
    {
     "name": "stdout",
     "output_type": "stream",
     "text": [
      "Found 999896 images belonging to 100 classes.\n",
      "Found 81574 images belonging to 100 classes.\n",
      "Epoch 1/2\n",
      "31246/31246 [==============================] - 20977s 671ms/step - loss: 0.5349 - acc: 0.8764 - val_loss: 0.1780 - val_acc: 0.9657\n",
      "Epoch 2/2\n",
      "31246/31246 [==============================] - 7716s 247ms/step - loss: 0.1450 - acc: 0.9692 - val_loss: 0.1486 - val_acc: 0.9746\n"
     ]
    }
   ],
   "source": [
    "import keras\n",
    "from keras.models import load_model\n",
    "from keras import applications\n",
    "from keras.preprocessing.image import ImageDataGenerator\n",
    "from keras import optimizers\n",
    "from keras.models import Sequential, Model \n",
    "from keras.layers import Dropout, Flatten, Dense, GlobalAveragePooling2D\n",
    "from keras import backend as k \n",
    "from keras.callbacks import ModelCheckpoint, LearningRateScheduler, TensorBoard, EarlyStopping\n",
    "\n",
    "img_width, img_height = 299, 299\n",
    "train_data_dir = \"/share/jproject/fg538/r-006-gpu-4/data/keras_data/train_dir/\"\n",
    "validation_data_dir = \"/share/jproject/fg538/r-006-gpu-4/data/keras_data/val_dir/\"\n",
    "batch_size = 32\n",
    "epochs = 2\n",
    "nb_classes = 100\n",
    "\n",
    "train_datagen = ImageDataGenerator()\n",
    "val_datagen = ImageDataGenerator()\n",
    "\n",
    "train_generator = train_datagen.flow_from_directory(train_data_dir, \n",
    "                                                    target_size=(img_width, img_height), \n",
    "                                                    batch_size=batch_size)\n",
    "val_generator = val_datagen.flow_from_directory(validation_data_dir, \n",
    "                                                target_size=(img_width, img_height), \n",
    "                                                batch_size=batch_size)\n",
    "\n",
    "model = applications.inception_v3.InceptionV3(weights=\"imagenet\", \n",
    "                                              include_top=False, \n",
    "                                              input_shape = (img_width, img_height, 3))\n",
    "#model.summary()\n",
    "\n",
    "#Adding custom Layer \n",
    "x = model.output\n",
    "x = Flatten()(x)\n",
    "x = Dense(1024, activation=\"relu\")(x)\n",
    "x = Dropout(0.5)(x)\n",
    "x = Dense(1024, activation=\"relu\")(x)\n",
    "predictions = Dense(nb_classes, activation=\"softmax\")(x)\n",
    "\n",
    "# creating the final model \n",
    "model_final = Model(inputs = model.input, outputs = predictions)\n",
    "\n",
    "# compile the model \n",
    "model_final.compile(loss = \"categorical_crossentropy\", \n",
    "                    optimizer = optimizers.SGD(lr=0.0001, momentum=0.9),\n",
    "                    metrics=[\"accuracy\"])\n",
    "\n",
    "# callbacks\n",
    "# Save the model according to the conditions \n",
    "checkpoint = ModelCheckpoint(\"inception_v3_3.h5\", \n",
    "                             monitor='val_acc', \n",
    "                             verbose=1, \n",
    "                             save_best_only=True, \n",
    "                             save_weights_only=False, \n",
    "                             mode='auto', \n",
    "                             period=1)\n",
    "#early = EarlyStopping(monitor='val_acc', min_delta=0, patience=2, verbose=1, mode='auto')\n",
    "tensorboard = keras.callbacks.TensorBoard(log_dir='./logs', \n",
    "                                          histogram_freq=1, \n",
    "                                          batch_size=batch_size, \n",
    "                                          write_graph=True,\n",
    "                                          write_grads=True)\n",
    "\n",
    "# Train the model \n",
    "history = model_final.fit_generator(train_generator, \n",
    "                                    steps_per_epoch=train_count//batch_size, \n",
    "                                    epochs=epochs, \n",
    "                                    verbose=1,\n",
    "                                    #callbacks=[tensorboard],\n",
    "                                    validation_data=val_generator,\n",
    "                                    validation_steps=val_count//batch_size,\n",
    "                                    class_weight='auto')"
   ]
  },
  {
   "cell_type": "markdown",
   "metadata": {},
   "source": [
    "Batch Size: 32\n",
    "\n",
    "Epoch 1/2\n",
    "\n",
    "24741/24741 [==============================] - 7572s 306ms/step - loss: 0.6151 - acc: 0.8571 - val_loss: 0.1639 - val_acc: 0.9688\n",
    "\n",
    "\n",
    "Epoch 2/2\n",
    "\n",
    "24741/24741 [==============================] - 7494s 303ms/step - loss: 0.1615 - acc: 0.9666 - val_loss: 0.1144 - val_acc: 0.9794"
   ]
  },
  {
   "cell_type": "code",
   "execution_count": 10,
   "metadata": {},
   "outputs": [
    {
     "data": {
      "text/plain": [
       "Text(0.5,1,'Training and validation accuracy')"
      ]
     },
     "execution_count": 10,
     "metadata": {},
     "output_type": "execute_result"
    },
    {
     "data": {
      "image/png": "[encoded data removed]",
      "text/plain": [
       "<matplotlib.figure.Figure at 0x7f90131c3c50>"
      ]
     },
     "metadata": {},
     "output_type": "display_data"
    }
   ],
   "source": [
    "import matplotlib.pyplot as plt\n",
    "\n",
    "acc = history.history['acc']\n",
    "val_acc = history.history['val_acc']\n",
    "loss = history.history['loss']\n",
    "val_loss = history.history['val_loss']\n",
    "epochs = range(len(acc))\n",
    "\n",
    "#plt.plot(epochs, acc, 'r.')\n",
    "plt.plot(epochs, val_acc, 'r')\n",
    "plt.title('Training and validation accuracy')"
   ]
  },
  {
   "cell_type": "code",
   "execution_count": 9,
   "metadata": {},
   "outputs": [
    {
     "data": {
      "image/png": "[encoded data removed]",
      "text/plain": [
       "<matplotlib.figure.Figure at 0x7f90131c3e10>"
      ]
     },
     "metadata": {},
     "output_type": "display_data"
    }
   ],
   "source": [
    "plt.figure()\n",
    "plt.plot(epochs, loss, 'r.')\n",
    "plt.plot(epochs, val_loss, 'r-')\n",
    "plt.title('Training and validation loss')\n",
    "plt.show()"
   ]
  },
  {
   "cell_type": "code",
   "execution_count": null,
   "metadata": {},
   "outputs": [],
   "source": []
  }
 ],
 "metadata": {
  "kernelspec": {
   "display_name": "Python 3",
   "language": "python",
   "name": "python3"
  },
  "language_info": {
   "codemirror_mode": {
    "name": "ipython",
    "version": 3
   },
   "file_extension": ".py",
   "mimetype": "text/x-python",
   "name": "python",
   "nbconvert_exporter": "python",
   "pygments_lexer": "ipython3",
   "version": "3.6.4"
  }
 },
 "nbformat": 4,
 "nbformat_minor": 2
}
