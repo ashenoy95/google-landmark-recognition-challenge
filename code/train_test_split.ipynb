{
 "cells": [
  {
   "cell_type": "code",
   "execution_count": 1,
   "metadata": {},
   "outputs": [],
   "source": [
    "import os\n",
    "from tqdm import tqdm\n",
    "from shutil import copy2\n",
    "from random import shuffle, seed"
   ]
  },
  {
   "cell_type": "code",
   "execution_count": 3,
   "metadata": {},
   "outputs": [
    {
     "name": "stderr",
     "output_type": "stream",
     "text": [
      "\n",
      "  0%|          | 0/100 [00:00<?, ?it/s]\u001b[A\n",
      "100%|██████████| 100/100 [32:59<00:00, 19.79s/it]\n"
     ]
    }
   ],
   "source": [
    "path = '/share/jproject/fg538/r-006-gpu-4/data'\n",
    "\n",
    "for folder in tqdm(os.listdir('{}/train_resized_299/'.format(path))):\n",
    "    \n",
    "    filenames = os.listdir('{}/train_resized_299/{}/'.format(path, folder))\n",
    "    seed(123)\n",
    "    shuffle(filenames)\n",
    "    split_len = len(filenames)//5\n",
    "    \n",
    "    for file in filenames[:split_len]:\n",
    "        filename_source = '{}/train_resized_299/{}/{}'.format(path, folder, file)\n",
    "        dirname = '{}/keras_data/val_dir/{}/'.format(path, folder)\n",
    "        os.makedirs(os.path.dirname(dirname), exist_ok=True)\n",
    "        copy2(filename_source, dirname)\n",
    "\n",
    "    for file in filenames[split_len:split_len+10000]:\n",
    "        filename_source = '{}/train_resized_299/{}/{}'.format(path, folder, file)\n",
    "        dirname = '{}/keras_data/train_dir/{}/'.format(path, folder)\n",
    "        os.makedirs(os.path.dirname(dirname), exist_ok=True)\n",
    "        copy2(filename_source, dirname)"
   ]
  },
  {
   "cell_type": "code",
   "execution_count": null,
   "metadata": {},
   "outputs": [],
   "source": []
  }
 ],
 "metadata": {
  "kernelspec": {
   "display_name": "Python 3",
   "language": "python",
   "name": "python3"
  },
  "language_info": {
   "codemirror_mode": {
    "name": "ipython",
    "version": 3
   },
   "file_extension": ".py",
   "mimetype": "text/x-python",
   "name": "python",
   "nbconvert_exporter": "python",
   "pygments_lexer": "ipython3",
   "version": "3.6.4"
  }
 },
 "nbformat": 4,
 "nbformat_minor": 2
}
