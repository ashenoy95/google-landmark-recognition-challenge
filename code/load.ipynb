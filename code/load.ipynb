{
 "cells": [
  {
   "cell_type": "code",
   "execution_count": 1,
   "metadata": {},
   "outputs": [
    {
     "name": "stderr",
     "output_type": "stream",
     "text": [
      "/N/u/ashenoy/.local/lib/python3.6/site-packages/h5py/__init__.py:36: FutureWarning: Conversion of the second argument of issubdtype from `float` to `np.floating` is deprecated. In future, it will be treated as `np.float64 == np.dtype(float).type`.\n",
      "  from ._conv import register_converters as _register_converters\n"
     ]
    }
   ],
   "source": [
    "import os\n",
    "from tqdm import tqdm \n",
    "from PIL import Image\n",
    "import numpy as np\n",
    "import pickle\n",
    "import h5py"
   ]
  },
  {
   "cell_type": "code",
   "execution_count": null,
   "metadata": {},
   "outputs": [],
   "source": [
    "x = np.array"
   ]
  },
  {
   "cell_type": "code",
   "execution_count": 2,
   "metadata": {},
   "outputs": [],
   "source": [
    "x = []\n",
    "y = []"
   ]
  },
  {
   "cell_type": "code",
   "execution_count": null,
   "metadata": {
    "scrolled": true
   },
   "outputs": [
    {
     "name": "stderr",
     "output_type": "stream",
     "text": [
      " 49%|████▉     | 49/100 [31:11<32:27, 38.19s/it]"
     ]
    }
   ],
   "source": [
    "path = '/share/jproject/fg538/r-006-gpu-4/data/train_aug_227/'\n",
    "\n",
    "for folder in tqdm(os.listdir(path)):\n",
    "    for file in os.listdir('{}{}/'.format(path, folder)[:10000]):\n",
    "        filename = '{}{}/{}'.format(path, folder, file)\n",
    "        im = Image.open(filename)\n",
    "        arr = np.array(im)\n",
    "        x.append(arr)\n",
    "        y.append(folder)\n",
    "        im.close()"
   ]
  },
  {
   "cell_type": "code",
   "execution_count": null,
   "metadata": {},
   "outputs": [],
   "source": [
    "path = '/share/jproject/fg538/r-006-gpu-4/data'\n",
    "\n",
    "with open('{}/train-labels-aug.pkl'.format(path), 'wb') as f:\n",
    "    pickle.dump(y, f)"
   ]
  },
  {
   "cell_type": "code",
   "execution_count": null,
   "metadata": {},
   "outputs": [],
   "source": [
    "sub = 1\n",
    "with h5py.File('{}/train-data-aug.h5'.format(path), 'w') as f:\n",
    "    for i in tqdm(range(0, 1000000, 50000)):\n",
    "        f.create_dataset('train-images-{}'.format(sub), data=x[i:i+50000])\n",
    "        sub += 1\n",
    "    #f.create_dataset('train-images-{}'.format(sub), data=x[1000000:])   "
   ]
  },
  {
   "cell_type": "code",
   "execution_count": null,
   "metadata": {},
   "outputs": [],
   "source": []
  }
 ],
 "metadata": {
  "kernelspec": {
   "display_name": "Python 3",
   "language": "python",
   "name": "python3"
  },
  "language_info": {
   "codemirror_mode": {
    "name": "ipython",
    "version": 3
   },
   "file_extension": ".py",
   "mimetype": "text/x-python",
   "name": "python",
   "nbconvert_exporter": "python",
   "pygments_lexer": "ipython3",
   "version": "3.6.4"
  }
 },
 "nbformat": 4,
 "nbformat_minor": 2
}
