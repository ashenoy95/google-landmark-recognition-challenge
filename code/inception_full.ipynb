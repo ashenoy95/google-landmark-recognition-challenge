{
 "cells": [
  {
   "cell_type": "code",
   "execution_count": null,
   "metadata": {},
   "outputs": [],
   "source": [
    "import os\n",
    "from tqdm import tqdm\n",
    "\n",
    "path = '/share/jproject/fg538/r-006-gpu-4/data'\n",
    "train_count = 0\n",
    "val_count = 0\n",
    "\n",
    "for folder in tqdm(os.listdir('{}/train2/'.format(path))):\n",
    "    train_count += len(os.listdir('{}/train2/{}/'.format(path, folder)))\n",
    "for folder in tqdm(os.listdir('{}/keras_data/val_dir/'.format(path))):\n",
    "    val_count += len(os.listdir('{}/keras_data/val_dir/{}/'.format(path, folder)))\n",
    "train_count, val_count"
   ]
  },
  {
   "cell_type": "code",
   "execution_count": null,
   "metadata": {},
   "outputs": [
    {
     "name": "stderr",
     "output_type": "stream",
     "text": [
      "/opt/Anaconda3-5.0.1/envs/e533/lib/python3.6/site-packages/keras/preprocessing/image.py:492: UserWarning: This ImageDataGenerator specifies `zca_whitening`, which overrides setting of `featurewise_center`.\n",
      "  warnings.warn('This ImageDataGenerator specifies '\n"
     ]
    },
    {
     "name": "stdout",
     "output_type": "stream",
     "text": [
      "Found 1224092 images belonging to 14951 classes.\n",
      "Found 81574 images belonging to 100 classes.\n",
      "Epoch 1/2\n"
     ]
    },
    {
     "name": "stderr",
     "output_type": "stream",
     "text": [
      "/opt/Anaconda3-5.0.1/envs/e533/lib/python3.6/site-packages/keras/preprocessing/image.py:571: UserWarning: This ImageDataGenerator specifies `featurewise_center`, but it hasn't been fit on any training data. Fit it first by calling `.fit(numpy_data)`.\n",
      "  warnings.warn('This ImageDataGenerator specifies '\n",
      "/opt/Anaconda3-5.0.1/envs/e533/lib/python3.6/site-packages/keras/preprocessing/image.py:589: UserWarning: This ImageDataGenerator specifies `zca_whitening`, but it hasn't been fit on any training data. Fit it first by calling `.fit(numpy_data)`.\n",
      "  warnings.warn('This ImageDataGenerator specifies '\n"
     ]
    },
    {
     "name": "stdout",
     "output_type": "stream",
     "text": [
      "28394/38283 [=====================>........] - ETA: 2:17:24 - loss: 5.3468 - acc: 0.3005"
     ]
    }
   ],
   "source": [
    "import keras\n",
    "from keras.models import load_model\n",
    "from keras import applications\n",
    "from keras.preprocessing.image import ImageDataGenerator\n",
    "from keras import optimizers\n",
    "from keras.models import Sequential, Model \n",
    "from keras.layers import Dropout, Flatten, Dense, GlobalAveragePooling2D\n",
    "from keras import backend as k \n",
    "from keras.callbacks import ModelCheckpoint, LearningRateScheduler, TensorBoard, EarlyStopping\n",
    "\n",
    "img_width, img_height = 299, 299\n",
    "train_data_dir = \"/share/jproject/fg538/r-006-gpu-4/data/train2/\"\n",
    "validation_data_dir = \"/share/jproject/fg538/r-006-gpu-4/data/keras_data/val_dir/\"\n",
    "batch_size = 32\n",
    "epochs = 2\n",
    "nb_classes = 14951\n",
    "\n",
    "train_datagen = ImageDataGenerator(rotation_range=20, \n",
    "                                   shear_range=.2, \n",
    "                                   horizontal_flip=True,\n",
    "                                   zca_whitening=True,\n",
    "                                   fill_mode='reflect')\n",
    "val_datagen = ImageDataGenerator()\n",
    "\n",
    "train_generator = train_datagen.flow_from_directory(train_data_dir, \n",
    "                                                    target_size=(img_width, img_height), \n",
    "                                                    batch_size=batch_size)\n",
    "val_generator = val_datagen.flow_from_directory(validation_data_dir, \n",
    "                                                target_size=(img_width, img_height), \n",
    "                                                batch_size=batch_size)\n",
    "\n",
    "model = applications.inception_v3.InceptionV3(weights=\"imagenet\", \n",
    "                                              include_top=False, \n",
    "                                              input_shape = (img_width, img_height, 3))\n",
    "#model.summary()\n",
    "\n",
    "#Adding custom Layer \n",
    "x = model.output\n",
    "x = Flatten()(x)\n",
    "x = Dense(1024, activation=\"relu\")(x)\n",
    "x = Dropout(0.5)(x)\n",
    "x = Dense(1024, activation=\"relu\")(x)\n",
    "predictions = Dense(nb_classes, activation=\"softmax\")(x)\n",
    "\n",
    "# creating the final model \n",
    "model_final = Model(inputs = model.input, outputs = predictions)\n",
    "\n",
    "# compile the model \n",
    "model_final.compile(loss = \"categorical_crossentropy\", \n",
    "                    optimizer = optimizers.SGD(lr=0.0001, momentum=0.9),\n",
    "                    metrics=[\"accuracy\"])\n",
    "\n",
    "# callbacks\n",
    "# Save the model according to the conditions \n",
    "checkpoint = ModelCheckpoint(\"inception_v3_3.h5\", \n",
    "                             monitor='val_acc', \n",
    "                             verbose=1, \n",
    "                             save_best_only=True, \n",
    "                             save_weights_only=False, \n",
    "                             mode='auto', \n",
    "                             period=1)\n",
    "#early = EarlyStopping(monitor='val_acc', min_delta=0, patience=2, verbose=1, mode='auto')\n",
    "tensorboard = keras.callbacks.TensorBoard(log_dir='./logs', \n",
    "                                          histogram_freq=1, \n",
    "                                          batch_size=batch_size, \n",
    "                                          write_graph=True,\n",
    "                                          write_grads=True)\n",
    "\n",
    "# Train the model \n",
    "history = model_final.fit_generator(train_generator, \n",
    "                                    steps_per_epoch=38283, \n",
    "                                    epochs=epochs, \n",
    "                                    verbose=1,\n",
    "                                    callbacks=[checkpoint],\n",
    "                                    validation_data=val_generator,\n",
    "                                    validation_steps=2500,\n",
    "                                    class_weight='auto')"
   ]
  },
  {
   "cell_type": "code",
   "execution_count": null,
   "metadata": {},
   "outputs": [],
   "source": []
  }
 ],
 "metadata": {
  "kernelspec": {
   "display_name": "Python 3",
   "language": "python",
   "name": "python3"
  },
  "language_info": {
   "codemirror_mode": {
    "name": "ipython",
    "version": 3
   },
   "file_extension": ".py",
   "mimetype": "text/x-python",
   "name": "python",
   "nbconvert_exporter": "python",
   "pygments_lexer": "ipython3",
   "version": "3.6.4"
  }
 },
 "nbformat": 4,
 "nbformat_minor": 2
}
