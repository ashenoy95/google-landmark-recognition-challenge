{
 "cells": [
  {
   "cell_type": "code",
   "execution_count": 1,
   "metadata": {},
   "outputs": [],
   "source": [
    "import pandas as pd\n",
    "import numpy as np\n",
    "import urllib.request\n",
    "import os\n",
    "from tqdm import tqdm \n",
    "from PIL import Image\n",
    "from io import BytesIO\n",
    "import re"
   ]
  },
  {
   "cell_type": "code",
   "execution_count": 2,
   "metadata": {},
   "outputs": [],
   "source": [
    "train_data = pd.read_csv('/share/jproject/fg538/r-006-gpu-4/data/train.csv')\n",
    "temp = train_data.groupby(['landmark_id']).size().reset_index(name='counts')\n",
    "temp.sort_values('counts', ascending=False, inplace=True)"
   ]
  },
  {
   "cell_type": "code",
   "execution_count": 3,
   "metadata": {},
   "outputs": [],
   "source": [
    "# Getting the top n landmark_ids with most samples\n",
    "# Top n classes\n",
    "temp_2 = np.array(temp.tail(-100)['landmark_id'])"
   ]
  },
  {
   "cell_type": "code",
   "execution_count": 4,
   "metadata": {},
   "outputs": [],
   "source": [
    "# train data with only top n classes\n",
    "# bacth 2: 450-1800\n",
    "train_data_sub = train_data.loc[train_data['landmark_id'].isin(temp_2[:450])]\n",
    "#train_data_sub.head()"
   ]
  },
  {
   "cell_type": "code",
   "execution_count": 5,
   "metadata": {},
   "outputs": [],
   "source": [
    "TARGET_SIZE = 299\n",
    "\n",
    "def overwrite_urls(df):\n",
    "    def reso_overwrite(url_tail, reso=TARGET_SIZE):\n",
    "        pattern = 's[0-9]+'\n",
    "        search_result = re.match(pattern, url_tail)\n",
    "        if search_result is None:\n",
    "            return url_tail\n",
    "        else:\n",
    "            return 's{}'.format(reso)\n",
    "\n",
    "    def join_url(parsed_url, s_reso):\n",
    "        parsed_url[-2] = s_reso\n",
    "        return '/'.join(parsed_url)\n",
    "\n",
    "    parsed_url = df.url.apply(lambda x: x.split('/'))\n",
    "    train_url_tail = parsed_url.apply(lambda x: x[-2])\n",
    "    resos = train_url_tail.apply(lambda x: reso_overwrite(x, reso=TARGET_SIZE))\n",
    "\n",
    "    overwritten_df = pd.concat([parsed_url, resos], axis=1)\n",
    "    overwritten_df.columns = ['url', 's_reso']\n",
    "    df['url'] = overwritten_df.apply(lambda x: join_url(x['url'], x['s_reso']), axis=1)\n",
    "    return df"
   ]
  },
  {
   "cell_type": "code",
   "execution_count": 6,
   "metadata": {},
   "outputs": [
    {
     "name": "stderr",
     "output_type": "stream",
     "text": [
      "/opt/Anaconda3-5.0.1/envs/e533/lib/python3.6/site-packages/ipykernel_launcher.py:22: SettingWithCopyWarning: \n",
      "A value is trying to be set on a copy of a slice from a DataFrame.\n",
      "Try using .loc[row_indexer,col_indexer] = value instead\n",
      "\n",
      "See the caveats in the documentation: http://pandas.pydata.org/pandas-docs/stable/indexing.html#indexing-view-versus-copy\n"
     ]
    }
   ],
   "source": [
    "train_data_sub2 = overwrite_urls(train_data_sub)"
   ]
  },
  {
   "cell_type": "code",
   "execution_count": null,
   "metadata": {},
   "outputs": [
    {
     "name": "stderr",
     "output_type": "stream",
     "text": [
      " 99%|█████████▉| 275194/276593 [13:36<00:04, 337.08it/s]"
     ]
    }
   ],
   "source": [
    "for i in tqdm(train_data_sub2.index):\n",
    "    URL = train_data_sub2['url'][i]\n",
    "    class_id = str(train_data_sub2['landmark_id'][i])\n",
    "    image_name = train_data_sub2['id'][i]\n",
    "    filename = '/share/jproject/fg538/r-006-gpu-4/data/train2/' + class_id + '/' + image_name + '.jpg'\n",
    "\n",
    "    # skip download if it already exists\n",
    "    if os.path.exists(filename):\n",
    "        continue\n",
    "\n",
    "    try:\n",
    "        with urllib.request.urlopen(URL) as url:\n",
    "            os.makedirs(os.path.dirname(filename), exist_ok=True)\n",
    "            image = url.read()\n",
    "    except:\n",
    "        #tqdm.write('Could not download image: {}'.format(image_name)) # print() interferes with progress bar\n",
    "        pass\n",
    "        \n",
    "    try:\n",
    "        pil_image = Image.open(BytesIO(image))\n",
    "    except:\n",
    "        #tqdm.write('Failed to parse image: {}'.format(image_name))\n",
    "        pass\n",
    "        \n",
    "    try:\n",
    "        pil_image_rgb = pil_image.convert('RGB')\n",
    "    except:\n",
    "        #tqdm.write('Failed to convert image {} to RGB'.format(image_name))\n",
    "        pass\n",
    "\n",
    "    try:\n",
    "        pil_image_resize = pil_image_rgb.resize((299, 299))\n",
    "    except:\n",
    "        pass\n",
    "    \n",
    "    try:\n",
    "        pil_image_resize.save(filename, format='JPEG', quality=90)\n",
    "    except:\n",
    "        #tqdm.write('Failed to save image: {}'.format(filename))\n",
    "        pass"
   ]
  },
  {
   "cell_type": "code",
   "execution_count": null,
   "metadata": {},
   "outputs": [],
   "source": [
    "5"
   ]
  },
  {
   "cell_type": "code",
   "execution_count": null,
   "metadata": {},
   "outputs": [],
   "source": []
  }
 ],
 "metadata": {
  "kernelspec": {
   "display_name": "Python 3",
   "language": "python",
   "name": "python3"
  },
  "language_info": {
   "codemirror_mode": {
    "name": "ipython",
    "version": 3
   },
   "file_extension": ".py",
   "mimetype": "text/x-python",
   "name": "python",
   "nbconvert_exporter": "python",
   "pygments_lexer": "ipython3",
   "version": "3.6.4"
  }
 },
 "nbformat": 4,
 "nbformat_minor": 2
}
